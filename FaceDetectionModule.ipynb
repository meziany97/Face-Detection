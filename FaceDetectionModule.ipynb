{
 "cells": [
  {
   "cell_type": "markdown",
   "id": "4bb69630",
   "metadata": {},
   "source": [
    "# import the libraries "
   ]
  },
  {
   "cell_type": "code",
   "execution_count": 1,
   "id": "ef1351b5",
   "metadata": {},
   "outputs": [],
   "source": [
    "import cv2 \n",
    "import mediapipe as mp \n",
    "import time "
   ]
  },
  {
   "cell_type": "code",
   "execution_count": null,
   "id": "180987b7",
   "metadata": {},
   "outputs": [],
   "source": []
  },
  {
   "cell_type": "code",
   "execution_count": 2,
   "id": "2b4a77c4",
   "metadata": {},
   "outputs": [],
   "source": [
    "class faceDetection():\n",
    "    def __init__(self,minDetectionCon=0.5):\n",
    "        self.minDetectionCon =  minDetectionCon\n",
    "        self.mpFaceDetection = mp.solutions.face_detection\n",
    "        self.FaceDetection = self.mpFaceDetection.FaceDetection(self.minDetectionCon)\n",
    "        self.mpDraw = mp.solutions.drawing_utils \n",
    "    #  create function for detect the faces on an image    \n",
    "    def findFaces(self, img, draw=False):    \n",
    "        # convert the color of the image from RGB TO BGR          \n",
    "        img_BGR = cv2.cvtColor(img, cv2.COLOR_RGB2BGR)\n",
    "        # returns the faces that detected on the image with some information\n",
    "        self.results = self.FaceDetection.process(img_BGR)\n",
    "        bboxs= []\n",
    "        # verify if found a face on the image.        \n",
    "        if self.results.detections:\n",
    "            for id, detection in enumerate(self.results.detections):           \n",
    "                bboxC = detection.location_data.relative_bounding_box\n",
    "                ih, iw, ic = img.shape\n",
    "                bbox = int(bboxC.xmin * iw), int(bboxC.ymin * ih),\\\n",
    "                       int(bboxC.width * iw), int(bboxC.height * ih)\n",
    "                # add the face to the list of faces that found                  \n",
    "                bboxs.append([id, bbox, detection.score])\n",
    "                # call the function of bounding box                 \n",
    "                img = self.fancyDraw(img,bbox)\n",
    "                cv2.putText(img,f'{int(detection.score[0]*100)}%',(bbox[0],bbox[1]-10),cv2.FONT_HERSHEY_PLAIN,2,(0,255,0),2)\n",
    "\n",
    "        return img, bboxs  \n",
    "    # for drawing the bounding box      \n",
    "    def fancyDraw(self, img, bbox, l=30, t=5,rt=1):\n",
    "        x, y, w, h = bbox\n",
    "        x1,y1 = x+w,y+h \n",
    "        cv2.rectangle(img, bbox, (0,255,255),rt)\n",
    "       # courner 1 = TOP LEFT X,Y       \n",
    "        cv2.line(img, (x,y),(x+l,y),(0,255,255),t)\n",
    "        cv2.line(img, (x,y),(x,y+l),(0,255,255),t)\n",
    "        # courner 2 = TOP RIGHT X1,Y\n",
    "        cv2.line(img, (x1,y),(x1-l,y),(0,255,255),t)\n",
    "        cv2.line(img, (x1,y),(x1,y+l),(0,255,255),t)\n",
    "        \n",
    "        # courner 3 = BOTTOM LEFT x,y1\n",
    "        cv2.line(img, (x,y1),(x+l,y1),(0,255,255),t)\n",
    "        cv2.line(img, (x,y1),(x,y1-l),(0,255,255),t)\n",
    "        # courner 4 = BOTTOM RIGHT X1,Y1\n",
    "        cv2.line(img, (x1,y1),(x1-l,y1),(0,255,255),t)\n",
    "        cv2.line(img, (x1,y1),(x1,y1-l),(0,255,255),t)\n",
    "        return img"
   ]
  },
  {
   "cell_type": "code",
   "execution_count": 3,
   "id": "a6f1c472",
   "metadata": {},
   "outputs": [],
   "source": [
    "def main():\n",
    "    cap = cv2.VideoCapture(\"videos/1.mp4\")\n",
    "\n",
    "    cTime=0 \n",
    "    pTime=0    \n",
    "    # call the faceDetection class     \n",
    "    detector = faceDetection()\n",
    "    while True:\n",
    "        success, img = cap.read()    \n",
    "        img, bboxs = detector.findFaces(img)\n",
    "\n",
    "        cTime = time.time()\n",
    "        fps = 1/(cTime - pTime)\n",
    "        pTime = cTime \n",
    "        cv2.putText(img,f\"FPS:{int(fps)}\",(10,30),cv2.FONT_HERSHEY_PLAIN,2,(0,255,0),2)\n",
    "        cv2.imshow(\"image\",img)\n",
    "        if cv2.waitKey(10) & 0xFF == ord(\"q\"):\n",
    "            break\n",
    "    cap.release()\n",
    "    cv2.destroyAllWindows()"
   ]
  },
  {
   "cell_type": "code",
   "execution_count": 4,
   "id": "cf950f86",
   "metadata": {},
   "outputs": [],
   "source": [
    "if __name__ == \"__main__\":\n",
    "    main()"
   ]
  }
 ],
 "metadata": {
  "kernelspec": {
   "display_name": "Python 3 (ipykernel)",
   "language": "python",
   "name": "python3"
  },
  "language_info": {
   "codemirror_mode": {
    "name": "ipython",
    "version": 3
   },
   "file_extension": ".py",
   "mimetype": "text/x-python",
   "name": "python",
   "nbconvert_exporter": "python",
   "pygments_lexer": "ipython3",
   "version": "3.9.7"
  }
 },
 "nbformat": 4,
 "nbformat_minor": 5
}
